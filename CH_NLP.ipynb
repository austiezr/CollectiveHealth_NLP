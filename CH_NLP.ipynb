{
  "nbformat": 4,
  "nbformat_minor": 0,
  "metadata": {
    "colab": {
      "name": "CH_NLP.ipynb",
      "provenance": []
    },
    "kernelspec": {
      "name": "python3",
      "display_name": "Python 3"
    }
  },
  "cells": [
    {
      "cell_type": "code",
      "metadata": {
        "id": "v-l-oRaSH4q3",
        "colab_type": "code",
        "colab": {
          "base_uri": "https://localhost:8080/",
          "height": 50
        },
        "outputId": "9c7452ec-b829-4e57-f464-5ae225f02a54"
      },
      "source": [
        "!pip install bs4\n",
        "from bs4 import BeautifulSoup as bs4\n",
        "import requests"
      ],
      "execution_count": null,
      "outputs": [
        {
          "output_type": "stream",
          "text": [
            "Requirement already satisfied: bs4 in /usr/local/lib/python3.6/dist-packages (0.0.1)\n",
            "Requirement already satisfied: beautifulsoup4 in /usr/local/lib/python3.6/dist-packages (from bs4) (4.6.3)\n"
          ],
          "name": "stdout"
        }
      ]
    },
    {
      "cell_type": "code",
      "metadata": {
        "id": "ri5Hj1LmIBq-",
        "colab_type": "code",
        "colab": {}
      },
      "source": [
        "links = ['https://blog.collectivehealth.com/meet-the-collective-hi-abbie-d786e9518f2a?source=collection_home---4------0-----------------------',\n",
        "         'https://blog.collectivehealth.com/meet-the-collective-hi-jamie-9bd2007623a5?source=collection_home---4------1-----------------------',\n",
        "         'https://blog.collectivehealth.com/meet-the-collective-hi-ben-c94bd55e102d?source=collection_home---4------2-----------------------',\n",
        "         'https://blog.collectivehealth.com/meet-the-collective-hi-vita-a94b4ad71c0b?source=user_profile---------1-----------------------',\n",
        "         'https://blog.collectivehealth.com/meet-the-collective-marianne-holt-director-of-benefits-innovation-15b6cdd531f9?source=user_profile---------2-----------------------',\n",
        "         'https://blog.collectivehealth.com/meet-the-collective-haleigh-tebben-chief-business-development-officer-7c49c972e35e?source=user_profile---------3-----------------------',\n",
        "         'https://blog.collectivehealth.com/meet-the-collective-quentin-blanton-1337ee28516f?source=user_profile---------4-----------------------',\n",
        "         'https://blog.collectivehealth.com/meet-the-collective-hi-dave-7d442265ce3a?source=user_profile---------5-----------------------',\n",
        "         'https://blog.collectivehealth.com/meet-the-collective-hi-karlene-1a6458f83091?source=user_profile---------6-----------------------',\n",
        "         'https://blog.collectivehealth.com/meet-the-collective-hi-alina-47e857703632?source=user_profile---------7-----------------------',\n",
        "         'https://blog.collectivehealth.com/meet-the-collective-sanjay-basu-director-of-research-analytics-e2978bbdbfc7?source=user_profile---------8-----------------------',\n",
        "         'https://blog.collectivehealth.com/meet-the-collective-hi-carl-db7843f0ecef?source=user_profile---------9-----------------------',\n",
        "         'https://blog.collectivehealth.com/meet-the-collective-hi-kavita-d34ae5f0b65c?source=user_profile---------10-----------------------',\n",
        "         'https://blog.collectivehealth.com/meet-the-collective-dina-segro-regional-vice-president-northeast-96d0677e9d13?source=user_profile---------11-----------------------',\n",
        "         'https://blog.collectivehealth.com/meet-the-collective-jennifer-jacobs-vice-president-of-operations-4ac1a6afc26f?source=user_profile---------12-----------------------',\n",
        "         'https://blog.collectivehealth.com/meet-the-collective-michael-nikunen-vice-president-of-strategic-accounts-1198438c7704?source=user_profile---------13-----------------------',\n",
        "         'https://blog.collectivehealth.com/meet-the-collective-kevin-francis-chief-commercial-officer-5521a67a4780?source=user_profile---------14-----------------------',\n",
        "         'https://blog.collectivehealth.com/meet-the-collective-karen-boone-joins-our-board-of-directors-8ae822cc0374?source=user_profile---------15-----------------------',\n",
        "         'https://blog.collectivehealth.com/meet-the-collective-hi-laura-c3f39af7d447?source=user_profile---------16-----------------------']\n",
        "\n",
        "sanjay = 'https://blog.collectivehealth.com/meet-the-collective-sanjay-basu-director-of-research-analytics-e2978bbdbfc7?source=user_profile---------8-----------------------'"
      ],
      "execution_count": null,
      "outputs": []
    },
    {
      "cell_type": "code",
      "metadata": {
        "id": "ioeg2QaFJjTR",
        "colab_type": "code",
        "colab": {}
      },
      "source": [
        "text = []\n",
        "\n",
        "for x in links:\n",
        "  soup = bs4(requests.get(x).text).select('p')\n",
        "  soup = soup[0].parent.parent.get_text()\n",
        "  text.append(soup)\n",
        "\n",
        "text = '\\n'.join(text)\n"
      ],
      "execution_count": null,
      "outputs": []
    },
    {
      "cell_type": "code",
      "metadata": {
        "id": "AOXBVMquKzrn",
        "colab_type": "code",
        "colab": {}
      },
      "source": [
        "sanjay = bs4(requests.get(sanjay).text).select('p')\n",
        "sanjay = sanjay[0].parent.parent.get_text()"
      ],
      "execution_count": null,
      "outputs": []
    },
    {
      "cell_type": "code",
      "metadata": {
        "id": "sXl0J5PiLSvg",
        "colab_type": "code",
        "colab": {
          "base_uri": "https://localhost:8080/",
          "height": 101
        },
        "outputId": "f1a48a9a-0914-4ddc-b225-9123483e5b12"
      },
      "source": [
        "import nltk\n",
        "nltk.download('punkt')\n",
        "nltk.download('stopwords')"
      ],
      "execution_count": null,
      "outputs": [
        {
          "output_type": "stream",
          "text": [
            "[nltk_data] Downloading package punkt to /root/nltk_data...\n",
            "[nltk_data]   Unzipping tokenizers/punkt.zip.\n",
            "[nltk_data] Downloading package stopwords to /root/nltk_data...\n",
            "[nltk_data]   Unzipping corpora/stopwords.zip.\n"
          ],
          "name": "stdout"
        },
        {
          "output_type": "execute_result",
          "data": {
            "text/plain": [
              "True"
            ]
          },
          "metadata": {
            "tags": []
          },
          "execution_count": 5
        }
      ]
    },
    {
      "cell_type": "code",
      "metadata": {
        "id": "EXrhWDDzMF9a",
        "colab_type": "code",
        "colab": {}
      },
      "source": [
        "from nltk.tokenize import RegexpTokenizer\n",
        "\n",
        "# Create tokenizer\n",
        "tokenizer = RegexpTokenizer('\\w+')\n",
        "\n",
        "sent = nltk.sent_tokenize(text)\n",
        "san_sent = nltk.sent_tokenize(sanjay)"
      ],
      "execution_count": null,
      "outputs": []
    },
    {
      "cell_type": "code",
      "metadata": {
        "id": "n8fOeoz8T2HT",
        "colab_type": "code",
        "colab": {}
      },
      "source": [
        "words = tokenizer.tokenize(text)\n",
        "san_words = tokenizer.tokenize(sanjay)\n",
        "freq = nltk.FreqDist(words)\n",
        "san_freq = nltk.FreqDist(sanjay)"
      ],
      "execution_count": null,
      "outputs": []
    },
    {
      "cell_type": "code",
      "metadata": {
        "id": "axu-YhPAT3Ep",
        "colab_type": "code",
        "colab": {}
      },
      "source": [
        "max_freq = max(freq.values())\n",
        "for word in freq.keys():\n",
        "  freq[word] = freq[word]/max_freq\n",
        "san_max = max(san_freq.values())\n",
        "for word in san_freq.keys():\n",
        "  san_freq[word] = san_freq[word]/san_max"
      ],
      "execution_count": null,
      "outputs": []
    },
    {
      "cell_type": "code",
      "metadata": {
        "id": "u6OAyvkLUzCm",
        "colab_type": "code",
        "colab": {}
      },
      "source": [
        "sentence_scores = {}\n",
        "for x in sent:\n",
        "    for word in nltk.word_tokenize(x.lower()):\n",
        "        if word in freq.keys():\n",
        "            if len(x.split(' ')) < 30:\n",
        "                if x not in sentence_scores.keys():\n",
        "                    sentence_scores[x] = freq[word]\n",
        "                else:\n",
        "                    sentence_scores[x] += freq[word]\n",
        "san_scores = {}\n",
        "for x in san_sent:\n",
        "    for word in nltk.word_tokenize(x.lower()):\n",
        "        if word in san_freq.keys():\n",
        "            if len(x.split(' ')) < 30:\n",
        "                if x not in san_scores.keys():\n",
        "                    san_scores[x] = san_freq[word]\n",
        "                else:\n",
        "                    san_scores[x] += san_freq[word]"
      ],
      "execution_count": null,
      "outputs": []
    },
    {
      "cell_type": "code",
      "metadata": {
        "id": "VtkhWIkRVJzV",
        "colab_type": "code",
        "colab": {
          "base_uri": "https://localhost:8080/",
          "height": 356
        },
        "outputId": "fbcb254b-c899-498f-ae67-1b3eecb6adda"
      },
      "source": [
        "import heapq\n",
        "summary_sentences = heapq.nlargest(11, sentence_scores, key=sentence_scores.get)\n",
        "\n",
        "summary = '\\n\\n'.join(summary_sentences[1:])\n",
        "print(summary)\n",
        "with open('CH.txt', 'w') as f:\n",
        "  for x in summary_sentences[1:]:\n",
        "    f.write(f'{x}\\n')\n",
        "  f.close()"
      ],
      "execution_count": null,
      "outputs": [
        {
          "output_type": "stream",
          "text": [
            "Employees’ minds tend to go to the perks of a company, but culture shows up in the minutiae of the day to day.\n",
            "\n",
            "Coming from one of the most valued and impactful companies in the world, I wanted to work on something that I felt was destined to make a mark.\n",
            "\n",
            "We’re able to do that because we aren’t reliant on maintaining the status quo of traditional U.S. healthcare — that’s a pretty exciting thing to be a part of.\n",
            "\n",
            "In all industries and at companies of all sizes — employee healthcare needs to be central to your workforce strategy, demanding the attention of the C-suite.\n",
            "\n",
            "Some of the things that attracted me were the people I met during my interview process and the mission of the company.\n",
            "\n",
            "In the next five years, I anticipate that Collective Health will be a household name and continue to raise the bar in the industry.\n",
            "\n",
            "The leadership has been proactive in anticipating where the market is going — understanding the need for flexibility and sophistication, as the dynamics of healthcare change.\n",
            "\n",
            "I’m excited to represent that perspective in the boardroom.What would you say to your peers about Collective Health?I would challenge them to join the broader healthcare conversation.\n",
            "\n",
            "I was doing very similar work as a business partner.Why did you make the move?I fell in love with the mission and culture of the company.\n",
            "\n",
            "Part of the appeal is also being able to learn more about the healthcare industry as I go.Collective Health is in a really exciting stage as a business.\n"
          ],
          "name": "stdout"
        }
      ]
    },
    {
      "cell_type": "code",
      "metadata": {
        "id": "4FzzWYnvXzJf",
        "colab_type": "code",
        "colab": {
          "base_uri": "https://localhost:8080/",
          "height": 87
        },
        "outputId": "3e0cb687-dc6f-45a6-e0d0-d9ea00ab57dc"
      },
      "source": [
        "san_ss = heapq.nlargest(2, san_scores, key=san_scores.get)\n",
        "san_summary = '\\n\\n'.join(san_ss)\n",
        "print(san_summary)\n",
        "with open('sanjay.txt', 'w') as f:\n",
        "  for x in san_summary:\n",
        "    f.write(f'{x}\\n')\n",
        "  f.close()"
      ],
      "execution_count": null,
      "outputs": [
        {
          "output_type": "stream",
          "text": [
            "I seriously hope that has no relationship to my current career!What’s your favorite quote?“Knowledge is like underwear.\n",
            "\n",
            "Today, we’re sitting down with Dr. Sanjay Basu, our new Director of Research and Analytics.Where are you from?I was born in Washington, then moved to Texas, Arizona, and Illinois.\n"
          ],
          "name": "stdout"
        }
      ]
    }
  ]
}