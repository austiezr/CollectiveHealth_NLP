{
 "cells": [
  {
   "cell_type": "code",
   "execution_count": 284,
   "metadata": {
    "colab": {
     "base_uri": "https://localhost:8080/",
     "height": 50
    },
    "colab_type": "code",
    "id": "v-l-oRaSH4q3",
    "outputId": "9c7452ec-b829-4e57-f464-5ae225f02a54"
   },
   "outputs": [],
   "source": [
    "from bs4 import BeautifulSoup as bs4\n",
    "import requests\n",
    "import nltk\n",
    "from nltk.tokenize import RegexpTokenizer\n",
    "import heapq\n",
    "import re"
   ]
  },
  {
   "cell_type": "code",
   "execution_count": 285,
   "metadata": {
    "colab": {
     "base_uri": "https://localhost:8080/",
     "height": 101
    },
    "colab_type": "code",
    "id": "sXl0J5PiLSvg",
    "outputId": "f1a48a9a-0914-4ddc-b225-9123483e5b12"
   },
   "outputs": [
    {
     "name": "stderr",
     "output_type": "stream",
     "text": [
      "[nltk_data] Downloading package punkt to /Users/austie/nltk_data...\n",
      "[nltk_data]   Package punkt is already up-to-date!\n",
      "[nltk_data] Downloading package stopwords to\n",
      "[nltk_data]     /Users/austie/nltk_data...\n",
      "[nltk_data]   Package stopwords is already up-to-date!\n"
     ]
    },
    {
     "data": {
      "text/plain": [
       "True"
      ]
     },
     "execution_count": 285,
     "metadata": {},
     "output_type": "execute_result"
    }
   ],
   "source": [
    "nltk.download('punkt')\n",
    "nltk.download('stopwords')"
   ]
  },
  {
   "cell_type": "code",
   "execution_count": 286,
   "metadata": {
    "colab": {},
    "colab_type": "code",
    "id": "ri5Hj1LmIBq-"
   },
   "outputs": [],
   "source": [
    "links = ['https://blog.collectivehealth.com/meet-the-collective-hi-abbie-d786e9518f2a?source=collection_home---4------0-----------------------',\n",
    "         'https://blog.collectivehealth.com/meet-the-collective-hi-jamie-9bd2007623a5?source=collection_home---4------1-----------------------',\n",
    "         'https://blog.collectivehealth.com/meet-the-collective-hi-ben-c94bd55e102d?source=collection_home---4------2-----------------------',\n",
    "         'https://blog.collectivehealth.com/meet-the-collective-hi-vita-a94b4ad71c0b?source=user_profile---------1-----------------------',\n",
    "         'https://blog.collectivehealth.com/meet-the-collective-marianne-holt-director-of-benefits-innovation-15b6cdd531f9?source=user_profile---------2-----------------------',\n",
    "         'https://blog.collectivehealth.com/meet-the-collective-haleigh-tebben-chief-business-development-officer-7c49c972e35e?source=user_profile---------3-----------------------',\n",
    "         'https://blog.collectivehealth.com/meet-the-collective-quentin-blanton-1337ee28516f?source=user_profile---------4-----------------------',\n",
    "         'https://blog.collectivehealth.com/meet-the-collective-hi-dave-7d442265ce3a?source=user_profile---------5-----------------------',\n",
    "         'https://blog.collectivehealth.com/meet-the-collective-hi-karlene-1a6458f83091?source=user_profile---------6-----------------------',\n",
    "         'https://blog.collectivehealth.com/meet-the-collective-hi-alina-47e857703632?source=user_profile---------7-----------------------',\n",
    "         'https://blog.collectivehealth.com/meet-the-collective-sanjay-basu-director-of-research-analytics-e2978bbdbfc7?source=user_profile---------8-----------------------',\n",
    "         'https://blog.collectivehealth.com/meet-the-collective-hi-carl-db7843f0ecef?source=user_profile---------9-----------------------',\n",
    "         'https://blog.collectivehealth.com/meet-the-collective-hi-kavita-d34ae5f0b65c?source=user_profile---------10-----------------------',\n",
    "         'https://blog.collectivehealth.com/meet-the-collective-dina-segro-regional-vice-president-northeast-96d0677e9d13?source=user_profile---------11-----------------------',\n",
    "         'https://blog.collectivehealth.com/meet-the-collective-jennifer-jacobs-vice-president-of-operations-4ac1a6afc26f?source=user_profile---------12-----------------------',\n",
    "         'https://blog.collectivehealth.com/meet-the-collective-michael-nikunen-vice-president-of-strategic-accounts-1198438c7704?source=user_profile---------13-----------------------',\n",
    "         'https://blog.collectivehealth.com/meet-the-collective-kevin-francis-chief-commercial-officer-5521a67a4780?source=user_profile---------14-----------------------',\n",
    "         'https://blog.collectivehealth.com/meet-the-collective-karen-boone-joins-our-board-of-directors-8ae822cc0374?source=user_profile---------15-----------------------',\n",
    "         'https://blog.collectivehealth.com/meet-the-collective-hi-laura-c3f39af7d447?source=user_profile---------16-----------------------']\n",
    "\n",
    "sanjay = 'https://blog.collectivehealth.com/meet-the-collective-sanjay-basu-director-of-research-analytics-e2978bbdbfc7?source=user_profile---------8-----------------------'"
   ]
  },
  {
   "cell_type": "code",
   "execution_count": 287,
   "metadata": {
    "colab": {},
    "colab_type": "code",
    "id": "ioeg2QaFJjTR"
   },
   "outputs": [],
   "source": [
    "text = []\n",
    "\n",
    "for x in links:\n",
    "    soup = bs4(requests.get(x).text).select('p')\n",
    "    soup = soup[0].parent.parent.get_text()\n",
    "    soup = re.split(r'(?<=[a-zA-Z”\\s+])[.?!](?=[a-zA-Z“\\s*])', soup)\n",
    "    soup = '. '.join(soup)\n",
    "    text.append(soup)\n",
    "\n",
    "text = '\\n'.join(text)"
   ]
  },
  {
   "cell_type": "code",
   "execution_count": 288,
   "metadata": {
    "colab": {},
    "colab_type": "code",
    "id": "AOXBVMquKzrn"
   },
   "outputs": [],
   "source": [
    "sanjay = bs4(requests.get(sanjay).text).select('p')\n",
    "sanjay = sanjay[0].parent.parent.get_text()\n",
    "# sanjay = re.split(r'\\s+|[!?]\\s*', sanjay)\n",
    "# sanjay = ' '.join(sanjay)\n",
    "sanjay = re.split(r'(?<=[a-zA-Z”\\s+])[.?!](?=[a-zA-Z“\\s*])', sanjay)\n",
    "sanjay = '. '.join(sanjay)"
   ]
  },
  {
   "cell_type": "code",
   "execution_count": 289,
   "metadata": {
    "colab": {},
    "colab_type": "code",
    "id": "EXrhWDDzMF9a"
   },
   "outputs": [],
   "source": [
    "tokenizer = RegexpTokenizer('\\w+')\n",
    "\n",
    "sent = nltk.sent_tokenize(text)\n",
    "san_sent = nltk.sent_tokenize(sanjay)"
   ]
  },
  {
   "cell_type": "code",
   "execution_count": 290,
   "metadata": {
    "colab": {},
    "colab_type": "code",
    "id": "n8fOeoz8T2HT"
   },
   "outputs": [],
   "source": [
    "words = tokenizer.tokenize(text)\n",
    "san_words = tokenizer.tokenize(sanjay)\n",
    "freq = nltk.FreqDist(words)\n",
    "san_freq = nltk.FreqDist(sanjay)"
   ]
  },
  {
   "cell_type": "code",
   "execution_count": 291,
   "metadata": {
    "colab": {},
    "colab_type": "code",
    "id": "axu-YhPAT3Ep"
   },
   "outputs": [],
   "source": [
    "max_freq = max(freq.values())\n",
    "for word in freq.keys():\n",
    "  freq[word] = freq[word]/max_freq\n",
    "san_max = max(san_freq.values())\n",
    "for word in san_freq.keys():\n",
    "  san_freq[word] = san_freq[word]/san_max"
   ]
  },
  {
   "cell_type": "code",
   "execution_count": 292,
   "metadata": {
    "colab": {},
    "colab_type": "code",
    "id": "u6OAyvkLUzCm"
   },
   "outputs": [],
   "source": [
    "sentence_scores = {}\n",
    "for x in sent:\n",
    "    for word in nltk.word_tokenize(x.lower()):\n",
    "        if word in freq.keys():\n",
    "            if len(x.split(' ')) < 30:\n",
    "                if x not in sentence_scores.keys():\n",
    "                    sentence_scores[x] = freq[word]\n",
    "                else:\n",
    "                    sentence_scores[x] += freq[word]\n",
    "san_scores = {}\n",
    "for x in san_sent:\n",
    "    for word in nltk.word_tokenize(x.lower()):\n",
    "        if word in san_freq.keys():\n",
    "            if len(x.split(' ')) < 30:\n",
    "                if x not in san_scores.keys():\n",
    "                    san_scores[x] = san_freq[word]\n",
    "                else:\n",
    "                    san_scores[x] += san_freq[word]"
   ]
  },
  {
   "cell_type": "code",
   "execution_count": 307,
   "metadata": {
    "colab": {
     "base_uri": "https://localhost:8080/",
     "height": 356
    },
    "colab_type": "code",
    "id": "VtkhWIkRVJzV",
    "outputId": "fbcb254b-c899-498f-ae67-1b3eecb6adda"
   },
   "outputs": [
    {
     "name": "stdout",
     "output_type": "stream",
     "text": [
      "Employees’ minds tend to go to the perks of a company, but culture shows up in the minutiae of the day to day.\n",
      "\n",
      "The fact that we can’t live up to that is pretty sad, so I love the idea of working for a company that’s going to make it better.\n",
      "\n",
      "Coming from one of the most valued and impactful companies in the world, I wanted to work on something that I felt was destined to make a mark.\n",
      "\n",
      "I’m just really excited to see the impact it’s going to be able to have as more and more companies bring it on to their platform.\n",
      "\n",
      "My idea of a great day is hanging out in the backyard, spending time with the kids, and having a nice meal and bottle of wine.\n",
      "\n",
      "One meal you’d eat for the rest of your life:The idea of eating one meal for the rest of my life is a real bummer.\n",
      "\n",
      "In all industries and at companies of all sizes — employee healthcare needs to be central to your workforce strategy, demanding the attention of the C-suite.\n",
      "\n",
      "What really drew me in was the reading the Medium article about why Ali and Rajaie started Collective Health, the mission, and the people I met while interviewing.\n",
      "\n",
      "I would challenge the rest of the team to adjudicating a medical claim — specifically a coordination of benefits where we are paying as a secondary payer, because a.)\n",
      "\n",
      "Some of the things that attracted me were the people I met during my interview process and the mission of the company.\n",
      "\n",
      "In the next five years, I anticipate that Collective Health will be a household name and continue to raise the bar in the industry.\n",
      "\n",
      "The leadership has been proactive in anticipating where the market is going — understanding the need for flexibility and sophistication, as the dynamics of healthcare change.\n",
      "\n",
      "You have to be empathetic to different points of view as you go through the process and it can be really powerful when you’re intentional about it.\n",
      "\n",
      "It’s such a unique group of people doing innovative work in a complex space — it’s hard not to want to be a part of it.\n",
      "\n",
      "I think it’s really important to get into the practice of taking time for yourself so that you can bring your best self to work and do great work.\n"
     ]
    }
   ],
   "source": [
    "summary_sentences = heapq.nlargest(27, sentence_scores, key=sentence_scores.get)\n",
    "\n",
    "summary = '\\n\\n'.join(summary_sentences[12:])\n",
    "\n",
    "print(summary)\n",
    "\n",
    "with open('CH_alt2.txt', 'w') as f:\n",
    "    for x in summary_sentences[12:]:\n",
    "        f.write(f'{x}\\n')\n",
    "    f.close()"
   ]
  },
  {
   "cell_type": "code",
   "execution_count": 308,
   "metadata": {},
   "outputs": [
    {
     "name": "stdout",
     "output_type": "stream",
     "text": [
      "As a kid, what did you want to be when you grew up and how does that inform what you do today.\n",
      "\n",
      "What’s one of the most important lessons you’ve learned in your career.\n",
      "\n",
      "What’s your favorite thing to do.\n",
      "\n",
      "What happened in your career that led you to Collective Health.\n",
      "\n",
      "What would you challenge the rest of the team to.\n",
      "\n",
      "How would you explain what you do to a 5-year-old.\n",
      "\n",
      "What excites you most about where Collective Health is going.\n",
      "\n",
      "What’s the best thing about your job.\n",
      "\n",
      "Why did you make the move.\n",
      "\n",
      "What were you up to before Collective Health.\n",
      "\n",
      "Where are you from.\n",
      "\n",
      "As a kid, what did you want to be when you grew up.\n"
     ]
    }
   ],
   "source": [
    "questions = '\\n\\n'.join(summary_sentences[:12])\n",
    "\n",
    "print(questions)\n",
    "\n",
    "with open('CH_questions.txt', 'w') as f:\n",
    "    for x in summary_sentences[:12]:\n",
    "        f.write(f'{x}\\n')\n",
    "    f.close()"
   ]
  },
  {
   "cell_type": "code",
   "execution_count": 309,
   "metadata": {
    "colab": {
     "base_uri": "https://localhost:8080/",
     "height": 87
    },
    "colab_type": "code",
    "id": "4FzzWYnvXzJf",
    "outputId": "3e0cb687-dc6f-45a6-e0d0-d9ea00ab57dc"
   },
   "outputs": [
    {
     "name": "stdout",
     "output_type": "stream",
     "text": [
      "As I watched Collective Health systematically tackle these kinds of barriers to better healthcare, I realized I wanted to be part of the team.\n",
      "\n",
      "I’m most excited that Collective Health is spearheading a genuine effort to engage in rigorous, objective, high-quality research to inform critical healthcare decisions.\n",
      "\n",
      "My high school years were in Illinois and my parents still live there, so I consider myself a Midwesterner at heart.\n",
      "\n",
      "I heard about the positive impact of Collective Health a few years ago.\n",
      "\n",
      "I wanted to be a professional elephant keeper.\n",
      "\n",
      "I think it’s critical to stay humble, especially when working in healthcare.\n",
      "\n",
      "For example, workplace wellness programs — often touted as cost saving — have started to be subjected to critical review, and we’re seeing a lot of null results.\n",
      "\n",
      "I was born in Washington, then moved to Texas, Arizona, and Illinois.\n",
      "\n",
      "As a kid, what did you want to be when you grew up and how does that inform what you do today.\n",
      "\n",
      "In many ways, though, fixing the U. S.  healthcare system’s way of structuring and financing care is more daunting that those other challenges.\n"
     ]
    }
   ],
   "source": [
    "san_ss = heapq.nlargest(10, san_scores, key=san_scores.get)\n",
    "\n",
    "san_summary = '\\n\\n'.join(san_ss)\n",
    "\n",
    "print(san_summary)\n",
    "\n",
    "with open('sanjay_alt.txt', 'w') as f:\n",
    "    for x in san_summary:\n",
    "        f.write(f'{x}\\n')\n",
    "    f.close()"
   ]
  }
 ],
 "metadata": {
  "colab": {
   "name": "CH_NLP.ipynb",
   "provenance": []
  },
  "kernelspec": {
   "display_name": "CH",
   "language": "python",
   "name": "ch"
  },
  "language_info": {
   "codemirror_mode": {
    "name": "ipython",
    "version": 3
   },
   "file_extension": ".py",
   "mimetype": "text/x-python",
   "name": "python",
   "nbconvert_exporter": "python",
   "pygments_lexer": "ipython3",
   "version": "3.7.7"
  }
 },
 "nbformat": 4,
 "nbformat_minor": 4
}
